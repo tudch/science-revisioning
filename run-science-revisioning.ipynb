{
 "cells": [
  {
   "cell_type": "markdown",
   "metadata": {},
   "source": [
    "# Run science-revision\n",
    "\n",
    "This notebook demonstrates on a example pdf the pipeline of how to \n",
    "- parse a paper into a json\n",
    "- diff the jsons of different revisions of that paper\n",
    "- match the revision changes to reviews\n",
    "\n",
    "Requirements: Linux, python3, Java"
   ]
  },
  {
   "cell_type": "code",
   "execution_count": null,
   "metadata": {},
   "outputs": [],
   "source": [
    "# Download the science-parse server from https://github.com/allenai/science-parse/releases\n",
    "!wget \"https://github.com/allenai/science-parse/releases/download/v2.0.3/science-parse-server-assembly-2.0.3.jar\""
   ]
  },
  {
   "cell_type": "code",
   "execution_count": null,
   "metadata": {},
   "outputs": [],
   "source": [
    "# Start science-parse server in other terminal (java required)\n",
    "!gnome-terminal -- java -jar -Xmx6g science-parse-server-assembly-2.0.3.jar\n",
    "\n",
    "import time\n",
    "time.sleep(40) # sleep until server has started"
   ]
  },
  {
   "cell_type": "code",
   "execution_count": null,
   "metadata": {},
   "outputs": [],
   "source": [
    "# Crawl openreview.net for papers, revision, reviews and comments\n",
    "# This is done by group 2A. Here, we only download an exemplary pdf\n",
    "\n",
    "# Download a paper as pdf\n",
    "!wget \"https://openreview.net/references/pdf?id=Bk67W4Yxl\" -O paper_v0.pdf\n",
    "!wget \"https://openreview.net/references/pdf?id=B1bg3SJVg\" -O paper_v1.pdf\n"
   ]
  },
  {
   "cell_type": "code",
   "execution_count": null,
   "metadata": {},
   "outputs": [],
   "source": [
    "import pprint\n",
    "from science_parse import parse\n",
    "\n",
    "# parse pdf to json\n",
    "parsed_v0 = parse(open('paper_v0.pdf', 'rb'))\n",
    "parsed_v1 = parse(open('paper_v1.pdf', 'rb'))\n",
    "\n",
    "pprint.PrettyPrinter().pprint(parsed_v0)"
   ]
  },
  {
   "cell_type": "code",
   "execution_count": null,
   "metadata": {},
   "outputs": [],
   "source": [
    "# Find diff between version 0 (original) and version 1 (revision)\n",
    "# TODO"
   ]
  },
  {
   "cell_type": "code",
   "execution_count": null,
   "metadata": {},
   "outputs": [],
   "source": [
    "# Match revision change to review\n",
    "# TODO"
   ]
  }
 ],
 "metadata": {
  "kernelspec": {
   "display_name": "Python 3",
   "language": "python",
   "name": "python3"
  },
  "language_info": {
   "codemirror_mode": {
    "name": "ipython",
    "version": 3
   },
   "file_extension": ".py",
   "mimetype": "text/x-python",
   "name": "python",
   "nbconvert_exporter": "python",
   "pygments_lexer": "ipython3",
   "version": "3.7.4"
  }
 },
 "nbformat": 4,
 "nbformat_minor": 2
}
